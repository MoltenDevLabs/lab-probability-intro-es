{
 "cells": [
  {
   "cell_type": "markdown",
   "metadata": {},
   "source": [
    "# Probability"
   ]
  },
  {
   "cell_type": "markdown",
   "metadata": {},
   "source": [
    "## Reto 1\n",
    "Hay una caja con 10 bolas blancas, 12 bolas rojas y 8 bolas negras. Calcula la probabilidad de:\n",
    "* Sacar una bola blanca.\n",
    "* Sacar una bola blanca en la primera extracción y una bola negra en la segunda extracción sin reemplazar la primera.\n",
    "* Sacar una bola blanca en la primera extracción y una bola negra en la segunda extracción reemplazando la primera.\n",
    "* Sacar 3 bolas y que sean todas de diferentes colores."
   ]
  },
  {
   "cell_type": "code",
   "execution_count": 11,
   "metadata": {},
   "outputs": [
    {
     "name": "stdout",
     "output_type": "stream",
     "text": [
      "a) Probabilidad de sacar una bola blanca: 0.3333333333333333\n",
      "b) Probabilidad de sacar una bola blanca en la primera extracción y una negra en la segunda sin reemplazo: 0.09195402298850575\n",
      "c) Probabilidad de sacar una bola blanca en la primera extracción y una negra en la segunda con reemplazo: 0.08888888888888888\n",
      "d) Probabilidad de sacar una bola de cada color: 0.035555555555555556\n"
     ]
    }
   ],
   "source": [
    "blanca = 10\n",
    "roja = 12\n",
    "negra = 8\n",
    "total = blanca + roja + negra\n",
    "\n",
    "# 1.1\n",
    "P_blanca = blanca / total\n",
    "print(f\"a) Probabilidad de sacar una bola blanca: {P_blanca}\")\n",
    "\n",
    "# 1.2\n",
    "P_negra_segunda_extraccion_sin_reemplazo = negra / (total-1)\n",
    "P_blanca_negra_sin_reemplazo = P_blanca * P_negra_segunda_extraccion_sin_reemplazo\n",
    "print(f\"b) Probabilidad de sacar una bola blanca en la primera extracción y una negra en la segunda sin reemplazo: {P_blanca_negra_sin_reemplazo}\")\n",
    "\n",
    "# 1.3\n",
    "P_negra_segunda_extraccion_con_reemplazo = negra / (total)\n",
    "P_blanca_negra_con_reemplazo = P_blanca * P_negra_segunda_extraccion_con_reemplazo\n",
    "print(f\"c) Probabilidad de sacar una bola blanca en la primera extracción y una negra en la segunda con reemplazo: {P_blanca_negra_con_reemplazo}\")\n",
    "\n",
    "# 1.4\n",
    "P_negra = negra / total\n",
    "P_roja = roja / total\n",
    "P_una_de_cada_color = P_blanca * P_negra * P_roja\n",
    "print(f\"d) Probabilidad de sacar una bola de cada color: {P_una_de_cada_color}\")"
   ]
  },
  {
   "cell_type": "markdown",
   "metadata": {},
   "source": [
    "## Reto 2\n",
    "\n",
    "Quieres ir de picnic el sábado. Odias la lluvia y quieres planificar tu fin de semana. Para ayudarte a tomar una decisión, recopilas los siguientes datos sobre los días lluviosos:\n",
    "\n",
    "* El 40% de todos los días están nublados.\n",
    "* Aproximadamente el 50% de los días nublados son lluviosos.\n",
    "* Aproximadamente el 20% de los días no nublados son lluviosos.\n",
    "\n",
    "¿Cuál es la probabilidad de que llueva el próximo sábado?"
   ]
  },
  {
   "cell_type": "code",
   "execution_count": 13,
   "metadata": {},
   "outputs": [
    {
     "name": "stdout",
     "output_type": "stream",
     "text": [
      "La probabilidad de lluvia es: 0.32\n"
     ]
    }
   ],
   "source": [
    "P_nublado = 0.4\n",
    "P_no_nublado = 0.6\n",
    "P_lluvia_nublado = 0.5\n",
    "P_lluvia_no_nublado = 0.2\n",
    "\n",
    "P_lluvia_y_nublado = P_lluvia_nublado * P_nublado\n",
    "P_lluvia_y_no_nublado = P_lluvia_no_nublado * P_no_nublado\n",
    "\n",
    "P_lluvia_total = P_lluvia_y_nublado + P_lluvia_y_no_nublado\n",
    "print(f\"La probabilidad de lluvia es: {P_lluvia_total}\")"
   ]
  },
  {
   "cell_type": "markdown",
   "metadata": {},
   "source": [
    "## Reto 3\n",
    "\n",
    "A y B son eventos de una probabilidad tal que $(P(A) = 0.3)$, $(P(B) = 0.6)$ y $(P(A \\cap B) = 0.1)$\n",
    "\n",
    "¿Cuáles de las siguientes afirmaciones son verdaderas?\n",
    "**SUGERENCIA: dibuja un gran diagrama de Venn a tu lado**\n",
    "* $(P(\\overline{A}) = 0.7)$\n",
    "* $(P(A \\cup B) = 0.6)$\n",
    "* $(P(A \\cap \\overline{B}) = 0.2)$\n",
    "* $(P(A \\cup \\overline{A}) = 1)$  \n",
    "* $(P(A \\cap (B \\cup \\overline{B})) = 0.4)$\n",
    "* $(P(\\overline{A} \\cap \\overline{B}) = 0.3)$\n",
    "* $(P(\\overline{A \\cap B}) = 0.9)$"
   ]
  },
  {
   "cell_type": "markdown",
   "metadata": {},
   "source": [
    "* $(P(\\overline{A}) = 0.7)$ => Verdadero $(P(\\overline{A}) = 1 - P({A}) = 1 - 0.3 = 0.7)$\n",
    "* $(P(A \\cup B) = 0.6)$ => Falso $(P(A \\cup B) = 0.3 + 0.6 -0.1 = 0.8)$\n",
    "* $(P(A \\cap \\overline{B}) = 0.2)$ => Verdadero $(P(A \\cap \\overline{B}) = P({A}) - P(A \\cap B) = 0.3 - 0.1 = 0.2)$\n",
    "* $(P(A \\cup \\overline{A}) = 1)$ => Verdadero (Que se de un evento o su contrario siempre es 1)\n",
    "* $(P(A \\cap (B \\cup \\overline{B})) = 0.4)$ => Falso $(P(A \\cap (B \\cup \\overline{B})) = P(A \\cap (1)) = P(A) = 0.3)$\n",
    "* $(P(\\overline{A} \\cap \\overline{B}) = 0.3)$ => Falso $(P(\\overline{A} \\cap \\overline{B}) = 1 - P(A \\cup B) = 1 - 0.8 = 0.2)$\n",
    "* $(P(\\overline{A \\cap B}) = 0.9)$ => Verdadero $(P(\\overline{A \\cap B}) = 1 - P(A \\cap B) = 1 - 0.1 = 0.9)$"
   ]
  },
  {
   "cell_type": "markdown",
   "metadata": {},
   "source": [
    "## Reto 4\n",
    "\n",
    "* Si alguien viaja a China, la probabilidad de contraer Covid es del 1%\n",
    "* Si alguien viaja a Italia, la probabilidad de contraer Covid es del 20%\n",
    "\n",
    "Lanzo un dado con números 1, 2, 3, 4, 5, 6:\n",
    "* Si sale 1: Vuelo a Italia\n",
    "* Si no sale 1: Vuelo a China\n",
    "\n",
    "Durante mi viaje, contraje Covid. ¿Cuál es la probabilidad de que haya volado a China?"
   ]
  },
  {
   "cell_type": "markdown",
   "metadata": {},
   "source": [
    "* $P({china}) = 5/6$\n",
    "* $P({italia}) = 1/6$\n",
    "* $P(covidChina) = 0.01$\n",
    "* $P(covidItalia) = 0.2$\n",
    "* $P({covid | italia}) = 0.2$\n",
    "* $P({covid | china}) = 0.01$\n",
    "* \n",
    "* $P({covid}) = ?$\n",
    "* Ley de probabilidad total para $P({covid})$: $P({covid}) = P({covid | italia}) * P({italia}) + P({covid | china}) * P({china})$\n",
    "* \n",
    "* $P({china | covid}) = ?$\n",
    "* Teorema de Bayes para $P({china | covid})$: $P({china | covid}) = P({covid | china})*P({china}) / P({covid})$"
   ]
  },
  {
   "cell_type": "code",
   "execution_count": 20,
   "metadata": {},
   "outputs": [
    {
     "name": "stdout",
     "output_type": "stream",
     "text": [
      "La probabilidad total de contraer covid es: 0.041666666666666664\n",
      "La probabilidad de que haya ido a China es de: 0.2\n"
     ]
    }
   ],
   "source": [
    "P_china = 5/6\n",
    "P_italia = 1/6\n",
    "P_covid_china = 0.01\n",
    "P_covid_italia = 0.2\n",
    "\n",
    "P_covid = P_covid_italia * P_italia + P_covid_china * P_china\n",
    "\n",
    "P_china_covid = P_covid_china * P_china / P_covid\n",
    "\n",
    "print(f\"La probabilidad total de contraer covid es: {P_covid}\")\n",
    "print(f\"La probabilidad de que haya ido a China es de: {P_china_covid}\")"
   ]
  },
  {
   "cell_type": "markdown",
   "metadata": {},
   "source": [
    "## BONUS\n",
    "\n",
    "Lanzas 2 dados. ¿Cuál es la probabilidad de que la suma de los números sea 7? ¿Y 8? ¿Y 9? Luego simula 10000 veces y dibuja un gráfico de conteo.\n",
    "\n",
    "tu explicación aquí"
   ]
  },
  {
   "cell_type": "code",
   "execution_count": 36,
   "metadata": {},
   "outputs": [
    {
     "name": "stdout",
     "output_type": "stream",
     "text": [
      "La probabilidad que salga 7 es: 0.16666666666666666\n",
      "La probabilidad que salga 8 es: 0.1388888888888889\n",
      "La probabilidad que salga 9 es: 0.1111111111111111\n"
     ]
    },
    {
     "data": {
      "image/png": "[encoded data removed]",
      "text/plain": [
       "<Figure size 640x480 with 1 Axes>"
      ]
     },
     "metadata": {},
     "output_type": "display_data"
    }
   ],
   "source": [
    "import numpy as np\n",
    "import matplotlib.pyplot as plt\n",
    "\n",
    "P_dado1_1 = 1/6\n",
    "P_dado1_2 = 1/6\n",
    "P_dado1_3 = 1/6\n",
    "P_dado1_4 = 1/6\n",
    "P_dado1_5 = 1/6\n",
    "P_dado1_6 = 1/6\n",
    "\n",
    "P_dado2_1 = 1/6\n",
    "P_dado2_2 = 1/6\n",
    "P_dado2_3 = 1/6\n",
    "P_dado2_4 = 1/6\n",
    "P_dado2_5 = 1/6\n",
    "P_dado2_6 = 1/6\n",
    "\n",
    "P_7 = 2 * ((P_dado1_1*P_dado2_6) + (P_dado1_2*P_dado2_5) + (P_dado1_3*P_dado2_4))\n",
    "P_8 = 2 * ((P_dado1_2*P_dado2_6) + (P_dado1_3*P_dado2_5)) + (P_dado1_4*P_dado2_4)\n",
    "P_9 = 2 * ((P_dado1_3*P_dado2_6) + (P_dado1_4*P_dado2_5))\n",
    "\n",
    "print(f\"La probabilidad que salga 7 es: {P_7}\")\n",
    "print(f\"La probabilidad que salga 8 es: {P_8}\")\n",
    "print(f\"La probabilidad que salga 9 es: {P_9}\")\n",
    "\n",
    "n = 10000\n",
    "\n",
    "tiradas_array = [(np.random.randint(1,7) + np.random.randint(1,7)) for i in range(n)]\n",
    "\n",
    "conteo_sumas = {suma: tiradas_array.count(suma) for suma in range(2, 13)}\n",
    "\n",
    "# Dibujar el gráfico de conteo\n",
    "plt.subplots()\n",
    "plt.bar(conteo_sumas.keys(), conteo_sumas.values())\n",
    "plt.plot(conteo_sumas.keys(), conteo_sumas.values(), color='red')\n",
    "plt.xlabel('Suma de los dos dados')\n",
    "plt.ylabel('Frecuencia')\n",
    "plt.title('Conteo de 10000 tiradas')\n",
    "plt.show()"
   ]
  }
 ],
 "metadata": {
  "kernelspec": {
   "display_name": "Python 3 (ipykernel)",
   "language": "python",
   "name": "python3"
  },
  "language_info": {
   "codemirror_mode": {
    "name": "ipython",
    "version": 3
   },
   "file_extension": ".py",
   "mimetype": "text/x-python",
   "name": "python",
   "nbconvert_exporter": "python",
   "pygments_lexer": "ipython3",
   "version": "3.12.4"
  },
  "toc": {
   "base_numbering": 1,
   "nav_menu": {},
   "number_sections": false,
   "sideBar": true,
   "skip_h1_title": false,
   "title_cell": "Table of Contents",
   "title_sidebar": "Contents",
   "toc_cell": false,
   "toc_position": {
    "height": "calc(100% - 180px)",
    "left": "10px",
    "top": "150px",
    "width": "296.475px"
   },
   "toc_section_display": true,
   "toc_window_display": false
  },
  "varInspector": {
   "cols": {
    "lenName": 16,
    "lenType": 16,
    "lenVar": 40
   },
   "kernels_config": {
    "python": {
     "delete_cmd_postfix": "",
     "delete_cmd_prefix": "del ",
     "library": "var_list.py",
     "varRefreshCmd": "print(var_dic_list())"
    },
    "r": {
     "delete_cmd_postfix": ") ",
     "delete_cmd_prefix": "rm(",
     "library": "var_list.r",
     "varRefreshCmd": "cat(var_dic_list()) "
    }
   },
   "types_to_exclude": [
    "module",
    "function",
    "builtin_function_or_method",
    "instance",
    "_Feature"
   ],
   "window_display": false
  }
 },
 "nbformat": 4,
 "nbformat_minor": 2
}
